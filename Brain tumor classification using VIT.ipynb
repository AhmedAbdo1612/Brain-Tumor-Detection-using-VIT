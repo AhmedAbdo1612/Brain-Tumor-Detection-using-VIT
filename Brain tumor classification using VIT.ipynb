{
  "nbformat": 4,
  "nbformat_minor": 0,
  "metadata": {
    "colab": {
      "provenance": []
    },
    "kernelspec": {
      "name": "python3",
      "display_name": "Python 3"
    },
    "language_info": {
      "name": "python"
    },
    "accelerator": "GPU",
    "gpuClass": "standard"
  },
  "cells": [
    {
      "cell_type": "code",
      "execution_count": null,
      "metadata": {
        "colab": {
          "base_uri": "https://localhost:8080/"
        },
        "id": "lZyK6ifS7mlT",
        "outputId": "04023f92-623f-4530-9c9d-1148641990ea"
      },
      "outputs": [
        {
          "output_type": "stream",
          "name": "stdout",
          "text": [
            "mkdir: cannot create directory ‘/root/.kaggle’: File exists\n"
          ]
        }
      ],
      "source": [
        "! mkdir ~/.kaggle\n",
        "\n",
        "! cp kaggle.json ~/.kaggle/"
      ]
    },
    {
      "cell_type": "code",
      "source": [
        "! chmod 600 ~/.kaggle/kaggle.json"
      ],
      "metadata": {
        "id": "Y_BTwOJn76Vz"
      },
      "execution_count": null,
      "outputs": []
    },
    {
      "cell_type": "code",
      "source": [
        "! mkdir dataset"
      ],
      "metadata": {
        "id": "qm46MPgw77I_"
      },
      "execution_count": null,
      "outputs": []
    },
    {
      "cell_type": "code",
      "source": [
        "!kaggle datasets download -d denizkavi1/brain-tumor"
      ],
      "metadata": {
        "colab": {
          "base_uri": "https://localhost:8080/"
        },
        "id": "0gGHu-IL8Jnc",
        "outputId": "e2e86c88-d7a3-4ce5-bee2-5c88b0857b62"
      },
      "execution_count": null,
      "outputs": [
        {
          "output_type": "stream",
          "name": "stdout",
          "text": [
            "Downloading brain-tumor.zip to /content\n",
            "100% 699M/700M [00:35<00:00, 21.4MB/s]\n",
            "100% 700M/700M [00:35<00:00, 20.9MB/s]\n"
          ]
        }
      ]
    },
    {
      "cell_type": "code",
      "source": [
        "! unzip /content/brain-tumor.zip -d dataset"
      ],
      "metadata": {
        "id": "cvsqDspx8Dyr"
      },
      "execution_count": null,
      "outputs": []
    },
    {
      "cell_type": "code",
      "source": [
        "!pip install hugsvision"
      ],
      "metadata": {
        "colab": {
          "base_uri": "https://localhost:8080/"
        },
        "id": "delcZHI79JBT",
        "outputId": "a939441f-3a19-4cfd-d179-d0c6aaa75b61"
      },
      "execution_count": null,
      "outputs": [
        {
          "output_type": "stream",
          "name": "stdout",
          "text": [
            "Looking in indexes: https://pypi.org/simple, https://us-python.pkg.dev/colab-wheels/public/simple/\n",
            "Collecting hugsvision\n",
            "  Downloading hugsvision-0.75.5-py3-none-any.whl (26 kB)\n",
            "Collecting torchmetrics\n",
            "  Downloading torchmetrics-0.11.1-py3-none-any.whl (517 kB)\n",
            "\u001b[2K     \u001b[90m━━━━━━━━━━━━━━━━━━━━━━━━━━━━━━━━━━━━━━\u001b[0m \u001b[32m517.2/517.2 KB\u001b[0m \u001b[31m36.0 MB/s\u001b[0m eta \u001b[36m0:00:00\u001b[0m\n",
            "\u001b[?25hRequirement already satisfied: matplotlib in /usr/local/lib/python3.8/dist-packages (from hugsvision) (3.2.2)\n",
            "Collecting transformers\n",
            "  Downloading transformers-4.26.0-py3-none-any.whl (6.3 MB)\n",
            "\u001b[2K     \u001b[90m━━━━━━━━━━━━━━━━━━━━━━━━━━━━━━━━━━━━━━━━\u001b[0m \u001b[32m6.3/6.3 MB\u001b[0m \u001b[31m100.1 MB/s\u001b[0m eta \u001b[36m0:00:00\u001b[0m\n",
            "\u001b[?25hCollecting timm\n",
            "  Downloading timm-0.6.12-py3-none-any.whl (549 kB)\n",
            "\u001b[2K     \u001b[90m━━━━━━━━━━━━━━━━━━━━━━━━━━━━━━━━━━━━━━\u001b[0m \u001b[32m549.1/549.1 KB\u001b[0m \u001b[31m51.9 MB/s\u001b[0m eta \u001b[36m0:00:00\u001b[0m\n",
            "\u001b[?25hRequirement already satisfied: scikit-learn in /usr/local/lib/python3.8/dist-packages (from hugsvision) (1.0.2)\n",
            "Collecting pytorch-lightning\n",
            "  Downloading pytorch_lightning-1.9.0-py3-none-any.whl (825 kB)\n",
            "\u001b[2K     \u001b[90m━━━━━━━━━━━━━━━━━━━━━━━━━━━━━━━━━━━━━━\u001b[0m \u001b[32m825.8/825.8 KB\u001b[0m \u001b[31m52.4 MB/s\u001b[0m eta \u001b[36m0:00:00\u001b[0m\n",
            "\u001b[?25hRequirement already satisfied: Pillow in /usr/local/lib/python3.8/dist-packages (from hugsvision) (7.1.2)\n",
            "Requirement already satisfied: tqdm in /usr/local/lib/python3.8/dist-packages (from hugsvision) (4.64.1)\n",
            "Requirement already satisfied: opencv-python in /usr/local/lib/python3.8/dist-packages (from hugsvision) (4.6.0.66)\n",
            "Requirement already satisfied: torch in /usr/local/lib/python3.8/dist-packages (from hugsvision) (1.13.1+cu116)\n",
            "Requirement already satisfied: tabulate in /usr/local/lib/python3.8/dist-packages (from hugsvision) (0.8.10)\n",
            "Requirement already satisfied: torchvision in /usr/local/lib/python3.8/dist-packages (from hugsvision) (0.14.1+cu116)\n",
            "Requirement already satisfied: pycocotools in /usr/local/lib/python3.8/dist-packages (from hugsvision) (2.0.6)\n",
            "Requirement already satisfied: kiwisolver>=1.0.1 in /usr/local/lib/python3.8/dist-packages (from matplotlib->hugsvision) (1.4.4)\n",
            "Requirement already satisfied: cycler>=0.10 in /usr/local/lib/python3.8/dist-packages (from matplotlib->hugsvision) (0.11.0)\n",
            "Requirement already satisfied: python-dateutil>=2.1 in /usr/local/lib/python3.8/dist-packages (from matplotlib->hugsvision) (2.8.2)\n",
            "Requirement already satisfied: numpy>=1.11 in /usr/local/lib/python3.8/dist-packages (from matplotlib->hugsvision) (1.21.6)\n",
            "Requirement already satisfied: pyparsing!=2.0.4,!=2.1.2,!=2.1.6,>=2.0.1 in /usr/local/lib/python3.8/dist-packages (from matplotlib->hugsvision) (3.0.9)\n",
            "Requirement already satisfied: PyYAML>=5.4 in /usr/local/lib/python3.8/dist-packages (from pytorch-lightning->hugsvision) (6.0)\n",
            "Collecting lightning-utilities>=0.4.2\n",
            "  Downloading lightning_utilities-0.6.0.post0-py3-none-any.whl (18 kB)\n",
            "Requirement already satisfied: typing-extensions>=4.0.0 in /usr/local/lib/python3.8/dist-packages (from pytorch-lightning->hugsvision) (4.4.0)\n",
            "Requirement already satisfied: fsspec[http]>2021.06.0 in /usr/local/lib/python3.8/dist-packages (from pytorch-lightning->hugsvision) (2022.11.0)\n",
            "Requirement already satisfied: packaging>=17.1 in /usr/local/lib/python3.8/dist-packages (from pytorch-lightning->hugsvision) (21.3)\n",
            "Requirement already satisfied: scipy>=1.1.0 in /usr/local/lib/python3.8/dist-packages (from scikit-learn->hugsvision) (1.7.3)\n",
            "Requirement already satisfied: threadpoolctl>=2.0.0 in /usr/local/lib/python3.8/dist-packages (from scikit-learn->hugsvision) (3.1.0)\n",
            "Requirement already satisfied: joblib>=0.11 in /usr/local/lib/python3.8/dist-packages (from scikit-learn->hugsvision) (1.2.0)\n",
            "Collecting huggingface-hub\n",
            "  Downloading huggingface_hub-0.12.0-py3-none-any.whl (190 kB)\n",
            "\u001b[2K     \u001b[90m━━━━━━━━━━━━━━━━━━━━━━━━━━━━━━━━━━━━━━━\u001b[0m \u001b[32m190.3/190.3 KB\u001b[0m \u001b[31m1.2 MB/s\u001b[0m eta \u001b[36m0:00:00\u001b[0m\n",
            "\u001b[?25hRequirement already satisfied: requests in /usr/local/lib/python3.8/dist-packages (from torchvision->hugsvision) (2.25.1)\n",
            "Requirement already satisfied: regex!=2019.12.17 in /usr/local/lib/python3.8/dist-packages (from transformers->hugsvision) (2022.6.2)\n",
            "Collecting tokenizers!=0.11.3,<0.14,>=0.11.1\n",
            "  Downloading tokenizers-0.13.2-cp38-cp38-manylinux_2_17_x86_64.manylinux2014_x86_64.whl (7.6 MB)\n",
            "\u001b[2K     \u001b[90m━━━━━━━━━━━━━━━━━━━━━━━━━━━━━━━━━━━━━━━━\u001b[0m \u001b[32m7.6/7.6 MB\u001b[0m \u001b[31m119.2 MB/s\u001b[0m eta \u001b[36m0:00:00\u001b[0m\n",
            "\u001b[?25hRequirement already satisfied: filelock in /usr/local/lib/python3.8/dist-packages (from transformers->hugsvision) (3.9.0)\n",
            "Requirement already satisfied: aiohttp!=4.0.0a0,!=4.0.0a1 in /usr/local/lib/python3.8/dist-packages (from fsspec[http]>2021.06.0->pytorch-lightning->hugsvision) (3.8.3)\n",
            "Requirement already satisfied: six>=1.5 in /usr/local/lib/python3.8/dist-packages (from python-dateutil>=2.1->matplotlib->hugsvision) (1.15.0)\n",
            "Requirement already satisfied: idna<3,>=2.5 in /usr/local/lib/python3.8/dist-packages (from requests->torchvision->hugsvision) (2.10)\n",
            "Requirement already satisfied: chardet<5,>=3.0.2 in /usr/local/lib/python3.8/dist-packages (from requests->torchvision->hugsvision) (4.0.0)\n",
            "Requirement already satisfied: urllib3<1.27,>=1.21.1 in /usr/local/lib/python3.8/dist-packages (from requests->torchvision->hugsvision) (1.24.3)\n",
            "Requirement already satisfied: certifi>=2017.4.17 in /usr/local/lib/python3.8/dist-packages (from requests->torchvision->hugsvision) (2022.12.7)\n",
            "Requirement already satisfied: aiosignal>=1.1.2 in /usr/local/lib/python3.8/dist-packages (from aiohttp!=4.0.0a0,!=4.0.0a1->fsspec[http]>2021.06.0->pytorch-lightning->hugsvision) (1.3.1)\n",
            "Requirement already satisfied: multidict<7.0,>=4.5 in /usr/local/lib/python3.8/dist-packages (from aiohttp!=4.0.0a0,!=4.0.0a1->fsspec[http]>2021.06.0->pytorch-lightning->hugsvision) (6.0.4)\n",
            "Requirement already satisfied: yarl<2.0,>=1.0 in /usr/local/lib/python3.8/dist-packages (from aiohttp!=4.0.0a0,!=4.0.0a1->fsspec[http]>2021.06.0->pytorch-lightning->hugsvision) (1.8.2)\n",
            "Requirement already satisfied: charset-normalizer<3.0,>=2.0 in /usr/local/lib/python3.8/dist-packages (from aiohttp!=4.0.0a0,!=4.0.0a1->fsspec[http]>2021.06.0->pytorch-lightning->hugsvision) (2.1.1)\n",
            "Requirement already satisfied: attrs>=17.3.0 in /usr/local/lib/python3.8/dist-packages (from aiohttp!=4.0.0a0,!=4.0.0a1->fsspec[http]>2021.06.0->pytorch-lightning->hugsvision) (22.2.0)\n",
            "Requirement already satisfied: async-timeout<5.0,>=4.0.0a3 in /usr/local/lib/python3.8/dist-packages (from aiohttp!=4.0.0a0,!=4.0.0a1->fsspec[http]>2021.06.0->pytorch-lightning->hugsvision) (4.0.2)\n",
            "Requirement already satisfied: frozenlist>=1.1.1 in /usr/local/lib/python3.8/dist-packages (from aiohttp!=4.0.0a0,!=4.0.0a1->fsspec[http]>2021.06.0->pytorch-lightning->hugsvision) (1.3.3)\n",
            "Installing collected packages: tokenizers, torchmetrics, lightning-utilities, huggingface-hub, transformers, timm, pytorch-lightning, hugsvision\n",
            "Successfully installed huggingface-hub-0.12.0 hugsvision-0.75.5 lightning-utilities-0.6.0.post0 pytorch-lightning-1.9.0 timm-0.6.12 tokenizers-0.13.2 torchmetrics-0.11.1 transformers-4.26.0\n"
          ]
        }
      ]
    },
    {
      "cell_type": "code",
      "source": [
        "%cd '/content/dataset'\n",
        "%ls -la\n"
      ],
      "metadata": {
        "colab": {
          "base_uri": "https://localhost:8080/"
        },
        "id": "v9kQe_sH_TVS",
        "outputId": "75d0dd4f-3a6e-459c-9474-d60bc6c976f3"
      },
      "execution_count": null,
      "outputs": [
        {
          "output_type": "stream",
          "name": "stdout",
          "text": [
            "/content/dataset\n",
            "total 88\n",
            "drwxr-xr-x 5 root root  4096 Feb  1 22:06 \u001b[0m\u001b[01;34m.\u001b[0m/\n",
            "drwxr-xr-x 1 root root  4096 Feb  1 22:05 \u001b[01;34m..\u001b[0m/\n",
            "drwxr-xr-x 2 root root 20480 Feb  1 22:06 \u001b[01;34m1\u001b[0m/\n",
            "drwxr-xr-x 2 root root 36864 Feb  1 22:06 \u001b[01;34m2\u001b[0m/\n",
            "drwxr-xr-x 2 root root 24576 Feb  1 22:06 \u001b[01;34m3\u001b[0m/\n"
          ]
        }
      ]
    },
    {
      "cell_type": "code",
      "source": [
        "import os\n",
        "# print(os.listdir('/content/dataset'))\n",
        "# os.rmdir('/content/dataset/.ipynb_checkpoints')\n",
        "print(os.listdir('/content/dataset'))\n",
        "from hugsvision.dataio.VisionDataset import VisionDataset\n",
        "import torch,torchvision\n",
        "from torchvision import transforms\n",
        "\n",
        "transform= transforms.Compose([transforms.Resize((223,223) ,interpolation=torchvision.transforms.InterpolationMode.BICUBIC)])\n",
        "train, test, id2label, label2id = VisionDataset.fromImageFolder(\n",
        "  \"/content/dataset\",\n",
        "  test_ratio   = 0.2,\n",
        "  balanced     =False,\n",
        "  augmentation = True,\n",
        "  transform =transform\n",
        "\n",
        "\n",
        ")\n",
        "print(train)"
      ],
      "metadata": {
        "colab": {
          "base_uri": "https://localhost:8080/",
          "height": 252
        },
        "id": "QUpR3P_Z79gV",
        "outputId": "74ed29f3-af8b-4f17-9e19-c17e31ecca58"
      },
      "execution_count": null,
      "outputs": [
        {
          "output_type": "stream",
          "name": "stdout",
          "text": [
            "['2', '3', '1']\n"
          ]
        },
        {
          "output_type": "error",
          "ename": "AttributeError",
          "evalue": "ignored",
          "traceback": [
            "\u001b[0;31m---------------------------------------------------------------------------\u001b[0m",
            "\u001b[0;31mAttributeError\u001b[0m                            Traceback (most recent call last)",
            "\u001b[0;32m<ipython-input-5-1866aa838cd5>\u001b[0m in \u001b[0;36m<module>\u001b[0;34m\u001b[0m\n\u001b[1;32m      7\u001b[0m \u001b[0;32mfrom\u001b[0m \u001b[0mtorchvision\u001b[0m \u001b[0;32mimport\u001b[0m \u001b[0mtransforms\u001b[0m\u001b[0;34m\u001b[0m\u001b[0;34m\u001b[0m\u001b[0m\n\u001b[1;32m      8\u001b[0m \u001b[0;34m\u001b[0m\u001b[0m\n\u001b[0;32m----> 9\u001b[0;31m \u001b[0mtransform\u001b[0m\u001b[0;34m=\u001b[0m \u001b[0mtransforms\u001b[0m\u001b[0;34m.\u001b[0m\u001b[0mCompose\u001b[0m\u001b[0;34m(\u001b[0m\u001b[0;34m[\u001b[0m\u001b[0mtransforms\u001b[0m\u001b[0;34m.\u001b[0m\u001b[0mReScale\u001b[0m\u001b[0;34m(\u001b[0m\u001b[0;34m(\u001b[0m\u001b[0;36m223\u001b[0m\u001b[0;34m,\u001b[0m\u001b[0;36m223\u001b[0m\u001b[0;34m)\u001b[0m \u001b[0;34m,\u001b[0m\u001b[0minterpolation\u001b[0m\u001b[0;34m=\u001b[0m\u001b[0mtorchvision\u001b[0m\u001b[0;34m.\u001b[0m\u001b[0mtransforms\u001b[0m\u001b[0;34m.\u001b[0m\u001b[0mInterpolationMode\u001b[0m\u001b[0;34m.\u001b[0m\u001b[0mBICUBIC\u001b[0m\u001b[0;34m)\u001b[0m\u001b[0;34m]\u001b[0m\u001b[0;34m)\u001b[0m\u001b[0;34m\u001b[0m\u001b[0;34m\u001b[0m\u001b[0m\n\u001b[0m\u001b[1;32m     10\u001b[0m train, test, id2label, label2id = VisionDataset.fromImageFolder(\n\u001b[1;32m     11\u001b[0m   \u001b[0;34m\"/content/dataset\"\u001b[0m\u001b[0;34m,\u001b[0m\u001b[0;34m\u001b[0m\u001b[0;34m\u001b[0m\u001b[0m\n",
            "\u001b[0;31mAttributeError\u001b[0m: module 'torchvision.transforms' has no attribute 'ReScale'"
          ]
        }
      ]
    },
    {
      "cell_type": "code",
      "source": [
        "huggingface_model = 'facebook/deit-base-distilled-patch16-224' #facebook/deit-base-distilled-patch16-384' # 'google/vit-base-patch16-224-in21k'\n",
        "from hugsvision.nnet.VisionClassifierTrainer import VisionClassifierTrainer\n",
        "from transformers import ViTFeatureExtractor, ViTForImageClassification\n",
        "\n",
        "trainer = VisionClassifierTrainer(\n",
        "\tmodel_name   = \"Vitmodel\",\n",
        "\ttrain        = train,\n",
        "\ttest         = test,\n",
        "\toutput_dir   = \"/content/drive/MyDrive/VIT_models\",\n",
        "\tmax_epochs   = 20,\n",
        "\tbatch_size   = 32, # On RTX 2080 Ti\n",
        "\tlr\t     = 2e-5,\n",
        "\tfp16\t     = True,\n",
        "\tmodel = ViTForImageClassification.from_pretrained(\n",
        "\t    huggingface_model,\n",
        "\t    num_labels = len(label2id),\n",
        "\t    label2id   = label2id,\n",
        "\t    id2label   = id2label\n",
        "\t),\n",
        "\tfeature_extractor = ViTFeatureExtractor.from_pretrained(\n",
        "\t\thuggingface_model,\n",
        "\t),\n",
        ")"
      ],
      "metadata": {
        "colab": {
          "base_uri": "https://localhost:8080/",
          "height": 799
        },
        "id": "icGtSFeA9Dsp",
        "outputId": "2dc5d234-6383-4bf0-b609-13cb37fd0fba"
      },
      "execution_count": null,
      "outputs": [
        {
          "output_type": "stream",
          "name": "stderr",
          "text": [
            "You are using a model of type deit to instantiate a model of type vit. This is not supported for all configurations of models and can yield errors.\n",
            "Some weights of the model checkpoint at facebook/deit-base-distilled-patch16-224 were not used when initializing ViTForImageClassification: ['deit.encoder.layer.10.attention.attention.value.bias', 'deit.encoder.layer.2.attention.attention.query.weight', 'deit.encoder.layer.4.attention.attention.key.weight', 'deit.encoder.layer.11.attention.attention.value.weight', 'deit.encoder.layer.8.attention.attention.value.bias', 'deit.encoder.layer.6.attention.attention.query.weight', 'deit.encoder.layer.3.layernorm_after.bias', 'deit.encoder.layer.6.layernorm_after.bias', 'deit.encoder.layer.3.attention.output.dense.bias', 'deit.encoder.layer.9.output.dense.bias', 'deit.encoder.layer.11.attention.attention.query.bias', 'deit.encoder.layer.0.attention.output.dense.bias', 'deit.embeddings.position_embeddings', 'deit.encoder.layer.5.attention.attention.key.bias', 'deit.encoder.layer.1.attention.attention.value.weight', 'deit.encoder.layer.4.output.dense.bias', 'deit.encoder.layer.6.attention.attention.key.weight', 'deit.encoder.layer.1.layernorm_before.weight', 'deit.encoder.layer.3.attention.attention.key.bias', 'deit.encoder.layer.10.attention.attention.value.weight', 'deit.encoder.layer.9.attention.attention.key.weight', 'deit.encoder.layer.2.layernorm_after.weight', 'deit.encoder.layer.0.attention.output.dense.weight', 'deit.embeddings.patch_embeddings.projection.weight', 'deit.encoder.layer.7.attention.attention.query.bias', 'deit.encoder.layer.10.attention.output.dense.bias', 'deit.encoder.layer.9.attention.attention.key.bias', 'deit.encoder.layer.10.attention.output.dense.weight', 'deit.encoder.layer.11.layernorm_before.weight', 'deit.encoder.layer.5.output.dense.bias', 'deit.encoder.layer.2.layernorm_before.bias', 'deit.encoder.layer.11.output.dense.weight', 'deit.encoder.layer.11.intermediate.dense.weight', 'deit.encoder.layer.2.output.dense.weight', 'deit.encoder.layer.8.layernorm_after.bias', 'deit.encoder.layer.1.layernorm_after.bias', 'deit.encoder.layer.4.layernorm_before.weight', 'deit.encoder.layer.2.intermediate.dense.weight', 'deit.encoder.layer.10.layernorm_after.bias', 'deit.encoder.layer.8.attention.attention.key.bias', 'distillation_classifier.bias', 'deit.encoder.layer.8.attention.attention.query.bias', 'deit.encoder.layer.4.layernorm_before.bias', 'deit.encoder.layer.10.layernorm_before.bias', 'deit.encoder.layer.11.attention.attention.key.weight', 'deit.layernorm.bias', 'deit.encoder.layer.9.attention.attention.value.weight', 'deit.encoder.layer.3.attention.attention.query.bias', 'deit.encoder.layer.10.intermediate.dense.weight', 'deit.encoder.layer.4.attention.attention.value.bias', 'deit.encoder.layer.4.attention.output.dense.bias', 'deit.encoder.layer.11.attention.output.dense.weight', 'deit.encoder.layer.2.attention.output.dense.weight', 'deit.encoder.layer.7.attention.attention.value.bias', 'deit.encoder.layer.4.attention.output.dense.weight', 'deit.encoder.layer.7.intermediate.dense.bias', 'deit.encoder.layer.6.output.dense.weight', 'deit.encoder.layer.3.attention.attention.value.bias', 'deit.encoder.layer.1.intermediate.dense.weight', 'deit.encoder.layer.3.intermediate.dense.bias', 'deit.encoder.layer.4.attention.attention.value.weight', 'deit.encoder.layer.10.attention.attention.key.weight', 'deit.encoder.layer.11.attention.attention.query.weight', 'deit.encoder.layer.0.attention.attention.key.weight', 'deit.encoder.layer.1.attention.attention.key.weight', 'deit.encoder.layer.0.layernorm_before.weight', 'deit.encoder.layer.9.attention.attention.value.bias', 'deit.embeddings.cls_token', 'deit.encoder.layer.8.output.dense.weight', 'deit.encoder.layer.3.layernorm_before.bias', 'deit.encoder.layer.11.attention.output.dense.bias', 'deit.encoder.layer.5.layernorm_before.weight', 'deit.encoder.layer.4.layernorm_after.weight', 'deit.encoder.layer.10.intermediate.dense.bias', 'deit.encoder.layer.2.layernorm_after.bias', 'deit.encoder.layer.7.layernorm_after.weight', 'deit.encoder.layer.0.attention.attention.key.bias', 'deit.encoder.layer.5.intermediate.dense.bias', 'deit.encoder.layer.2.intermediate.dense.bias', 'deit.encoder.layer.5.attention.output.dense.weight', 'deit.encoder.layer.4.attention.attention.query.weight', 'deit.encoder.layer.7.attention.output.dense.bias', 'deit.encoder.layer.9.layernorm_before.weight', 'deit.encoder.layer.0.attention.attention.value.bias', 'deit.encoder.layer.0.attention.attention.value.weight', 'deit.encoder.layer.6.layernorm_before.weight', 'deit.encoder.layer.5.attention.attention.query.bias', 'deit.encoder.layer.0.layernorm_after.weight', 'deit.encoder.layer.1.attention.attention.query.weight', 'deit.encoder.layer.7.attention.attention.query.weight', 'deit.encoder.layer.9.intermediate.dense.weight', 'deit.encoder.layer.5.intermediate.dense.weight', 'deit.encoder.layer.8.layernorm_after.weight', 'deit.encoder.layer.11.layernorm_after.weight', 'deit.encoder.layer.0.attention.attention.query.bias', 'deit.encoder.layer.3.layernorm_before.weight', 'deit.encoder.layer.0.layernorm_before.bias', 'deit.encoder.layer.1.intermediate.dense.bias', 'deit.encoder.layer.0.layernorm_after.bias', 'deit.encoder.layer.9.output.dense.weight', 'deit.encoder.layer.7.attention.attention.key.weight', 'deit.encoder.layer.4.layernorm_after.bias', 'deit.encoder.layer.0.output.dense.bias', 'deit.encoder.layer.1.layernorm_before.bias', 'deit.encoder.layer.7.layernorm_before.bias', 'deit.encoder.layer.9.attention.output.dense.bias', 'deit.embeddings.distillation_token', 'deit.encoder.layer.4.intermediate.dense.weight', 'deit.encoder.layer.8.intermediate.dense.weight', 'deit.encoder.layer.3.attention.attention.value.weight', 'deit.encoder.layer.8.intermediate.dense.bias', 'deit.encoder.layer.10.attention.attention.query.bias', 'deit.encoder.layer.5.layernorm_after.bias', 'deit.encoder.layer.10.output.dense.weight', 'deit.encoder.layer.6.attention.attention.key.bias', 'deit.encoder.layer.7.attention.attention.key.bias', 'deit.encoder.layer.6.output.dense.bias', 'deit.encoder.layer.7.intermediate.dense.weight', 'deit.encoder.layer.11.output.dense.bias', 'deit.layernorm.weight', 'deit.encoder.layer.6.attention.output.dense.bias', 'deit.encoder.layer.3.layernorm_after.weight', 'deit.encoder.layer.6.layernorm_after.weight', 'cls_classifier.bias', 'deit.encoder.layer.2.attention.output.dense.bias', 'deit.encoder.layer.9.attention.attention.query.weight', 'deit.encoder.layer.9.intermediate.dense.bias', 'distillation_classifier.weight', 'deit.encoder.layer.4.attention.attention.query.bias', 'deit.encoder.layer.7.layernorm_before.weight', 'deit.encoder.layer.8.attention.attention.key.weight', 'deit.encoder.layer.10.layernorm_before.weight', 'deit.encoder.layer.1.attention.output.dense.bias', 'deit.encoder.layer.11.attention.attention.key.bias', 'deit.encoder.layer.6.intermediate.dense.bias', 'deit.encoder.layer.7.attention.output.dense.weight', 'deit.encoder.layer.8.attention.attention.query.weight', 'deit.encoder.layer.7.attention.attention.value.weight', 'deit.encoder.layer.0.intermediate.dense.bias', 'deit.encoder.layer.9.layernorm_after.bias', 'deit.encoder.layer.3.output.dense.weight', 'deit.encoder.layer.2.attention.attention.query.bias', 'deit.encoder.layer.8.output.dense.bias', 'deit.encoder.layer.11.layernorm_after.bias', 'deit.encoder.layer.11.layernorm_before.bias', 'deit.encoder.layer.11.attention.attention.value.bias', 'deit.embeddings.patch_embeddings.projection.bias', 'deit.encoder.layer.4.attention.attention.key.bias', 'deit.encoder.layer.5.layernorm_after.weight', 'deit.encoder.layer.4.output.dense.weight', 'deit.encoder.layer.6.intermediate.dense.weight', 'deit.encoder.layer.4.intermediate.dense.bias', 'deit.encoder.layer.7.output.dense.weight', 'deit.encoder.layer.5.attention.output.dense.bias', 'deit.encoder.layer.8.attention.attention.value.weight', 'deit.encoder.layer.9.layernorm_before.bias', 'deit.encoder.layer.9.layernorm_after.weight', 'deit.encoder.layer.5.attention.attention.query.weight', 'deit.encoder.layer.6.layernorm_before.bias', 'deit.encoder.layer.0.output.dense.weight', 'deit.encoder.layer.11.intermediate.dense.bias', 'deit.encoder.layer.2.attention.attention.key.bias', 'deit.encoder.layer.7.output.dense.bias', 'deit.encoder.layer.10.attention.attention.query.weight', 'deit.encoder.layer.1.attention.attention.query.bias', 'deit.encoder.layer.10.attention.attention.key.bias', 'deit.encoder.layer.3.output.dense.bias', 'deit.encoder.layer.5.attention.attention.key.weight', 'deit.encoder.layer.2.output.dense.bias', 'deit.encoder.layer.5.attention.attention.value.weight', 'deit.encoder.layer.1.attention.attention.key.bias', 'deit.encoder.layer.3.attention.attention.key.weight', 'deit.encoder.layer.10.layernorm_after.weight', 'deit.encoder.layer.2.attention.attention.value.bias', 'deit.encoder.layer.9.attention.output.dense.weight', 'deit.encoder.layer.9.attention.attention.query.bias', 'deit.encoder.layer.5.layernorm_before.bias', 'deit.encoder.layer.3.attention.attention.query.weight', 'deit.encoder.layer.3.intermediate.dense.weight', 'deit.encoder.layer.0.intermediate.dense.weight', 'deit.encoder.layer.6.attention.attention.query.bias', 'deit.encoder.layer.1.output.dense.bias', 'deit.encoder.layer.6.attention.attention.value.bias', 'deit.encoder.layer.6.attention.output.dense.weight', 'deit.encoder.layer.7.layernorm_after.bias', 'deit.encoder.layer.8.attention.output.dense.weight', 'deit.encoder.layer.8.attention.output.dense.bias', 'deit.encoder.layer.3.attention.output.dense.weight', 'deit.encoder.layer.8.layernorm_before.bias', 'deit.encoder.layer.1.attention.output.dense.weight', 'deit.encoder.layer.1.layernorm_after.weight', 'deit.encoder.layer.5.output.dense.weight', 'deit.encoder.layer.6.attention.attention.value.weight', 'deit.encoder.layer.1.attention.attention.value.bias', 'deit.encoder.layer.2.attention.attention.key.weight', 'deit.encoder.layer.2.layernorm_before.weight', 'deit.encoder.layer.10.output.dense.bias', 'deit.encoder.layer.0.attention.attention.query.weight', 'deit.encoder.layer.2.attention.attention.value.weight', 'cls_classifier.weight', 'deit.encoder.layer.1.output.dense.weight', 'deit.encoder.layer.5.attention.attention.value.bias', 'deit.encoder.layer.8.layernorm_before.weight']\n",
            "- This IS expected if you are initializing ViTForImageClassification from the checkpoint of a model trained on another task or with another architecture (e.g. initializing a BertForSequenceClassification model from a BertForPreTraining model).\n",
            "- This IS NOT expected if you are initializing ViTForImageClassification from the checkpoint of a model that you expect to be exactly identical (initializing a BertForSequenceClassification model from a BertForSequenceClassification model).\n",
            "Some weights of ViTForImageClassification were not initialized from the model checkpoint at facebook/deit-base-distilled-patch16-224 and are newly initialized: ['encoder.layer.5.attention.attention.value.weight', 'encoder.layer.5.output.dense.bias', 'encoder.layer.0.layernorm_after.weight', 'encoder.layer.4.intermediate.dense.weight', 'encoder.layer.8.attention.attention.query.bias', 'encoder.layer.1.attention.output.dense.bias', 'encoder.layer.11.attention.output.dense.bias', 'classifier.bias', 'encoder.layer.8.attention.output.dense.weight', 'encoder.layer.1.attention.attention.query.bias', 'encoder.layer.0.attention.attention.value.bias', 'encoder.layer.7.attention.attention.query.bias', 'encoder.layer.9.attention.attention.value.bias', 'encoder.layer.6.attention.output.dense.weight', 'encoder.layer.3.layernorm_before.weight', 'encoder.layer.5.layernorm_before.bias', 'encoder.layer.5.layernorm_after.bias', 'encoder.layer.10.attention.attention.value.weight', 'embeddings.patch_embeddings.projection.bias', 'encoder.layer.4.attention.attention.value.weight', 'encoder.layer.9.intermediate.dense.weight', 'encoder.layer.11.output.dense.bias', 'encoder.layer.11.attention.attention.key.weight', 'encoder.layer.3.layernorm_after.bias', 'encoder.layer.11.output.dense.weight', 'encoder.layer.10.attention.attention.query.bias', 'encoder.layer.7.output.dense.weight', 'encoder.layer.8.attention.attention.key.weight', 'encoder.layer.3.attention.attention.query.weight', 'encoder.layer.10.output.dense.bias', 'encoder.layer.7.output.dense.bias', 'encoder.layer.0.attention.attention.key.weight', 'encoder.layer.9.layernorm_after.weight', 'encoder.layer.0.intermediate.dense.bias', 'encoder.layer.4.attention.attention.query.weight', 'encoder.layer.5.intermediate.dense.bias', 'encoder.layer.6.output.dense.bias', 'encoder.layer.5.attention.attention.value.bias', 'encoder.layer.3.output.dense.bias', 'encoder.layer.10.attention.attention.value.bias', 'encoder.layer.10.layernorm_before.bias', 'encoder.layer.1.output.dense.bias', 'encoder.layer.8.layernorm_after.weight', 'encoder.layer.11.intermediate.dense.weight', 'encoder.layer.2.layernorm_before.bias', 'encoder.layer.1.attention.output.dense.weight', 'encoder.layer.6.layernorm_after.weight', 'encoder.layer.7.attention.attention.value.bias', 'encoder.layer.8.layernorm_before.weight', 'encoder.layer.0.layernorm_before.weight', 'encoder.layer.4.layernorm_after.weight', 'encoder.layer.3.intermediate.dense.bias', 'encoder.layer.5.attention.output.dense.bias', 'encoder.layer.6.attention.attention.key.weight', 'encoder.layer.1.layernorm_after.weight', 'encoder.layer.2.attention.output.dense.bias', 'encoder.layer.3.attention.attention.value.bias', 'encoder.layer.6.attention.attention.value.weight', 'encoder.layer.7.attention.output.dense.bias', 'encoder.layer.7.layernorm_after.weight', 'encoder.layer.4.output.dense.bias', 'encoder.layer.4.intermediate.dense.bias', 'encoder.layer.6.layernorm_before.weight', 'encoder.layer.1.attention.attention.key.bias', 'encoder.layer.6.layernorm_before.bias', 'encoder.layer.9.layernorm_before.bias', 'encoder.layer.10.intermediate.dense.weight', 'encoder.layer.7.intermediate.dense.weight', 'encoder.layer.9.attention.attention.query.weight', 'encoder.layer.9.attention.attention.value.weight', 'encoder.layer.5.attention.attention.key.bias', 'encoder.layer.4.attention.attention.key.weight', 'encoder.layer.2.attention.attention.query.weight', 'encoder.layer.8.attention.attention.query.weight', 'encoder.layer.10.layernorm_after.bias', 'encoder.layer.2.output.dense.weight', 'encoder.layer.9.attention.attention.key.weight', 'layernorm.weight', 'encoder.layer.7.attention.attention.key.bias', 'encoder.layer.0.layernorm_before.bias', 'encoder.layer.2.intermediate.dense.bias', 'encoder.layer.7.attention.output.dense.weight', 'encoder.layer.2.layernorm_after.bias', 'layernorm.bias', 'encoder.layer.7.layernorm_before.bias', 'encoder.layer.11.intermediate.dense.bias', 'encoder.layer.0.layernorm_after.bias', 'encoder.layer.2.attention.output.dense.weight', 'encoder.layer.9.attention.output.dense.weight', 'encoder.layer.11.layernorm_before.bias', 'encoder.layer.2.attention.attention.query.bias', 'encoder.layer.3.attention.attention.key.bias', 'encoder.layer.10.attention.output.dense.weight', 'encoder.layer.9.attention.attention.key.bias', 'encoder.layer.4.output.dense.weight', 'encoder.layer.4.attention.attention.query.bias', 'encoder.layer.6.layernorm_after.bias', 'encoder.layer.7.attention.attention.query.weight', 'encoder.layer.11.attention.attention.value.weight', 'encoder.layer.8.output.dense.bias', 'encoder.layer.11.layernorm_after.weight', 'encoder.layer.4.attention.output.dense.weight', 'encoder.layer.10.attention.attention.key.bias', 'encoder.layer.6.attention.attention.value.bias', 'encoder.layer.7.layernorm_before.weight', 'encoder.layer.5.attention.attention.query.weight', 'encoder.layer.9.attention.attention.query.bias', 'encoder.layer.2.attention.attention.value.bias', 'encoder.layer.6.attention.attention.query.weight', 'encoder.layer.8.output.dense.weight', 'encoder.layer.8.layernorm_after.bias', 'encoder.layer.6.attention.attention.key.bias', 'encoder.layer.7.intermediate.dense.bias', 'encoder.layer.7.attention.attention.key.weight', 'encoder.layer.11.attention.attention.query.weight', 'encoder.layer.6.attention.output.dense.bias', 'encoder.layer.5.output.dense.weight', 'encoder.layer.0.attention.output.dense.weight', 'encoder.layer.11.layernorm_after.bias', 'encoder.layer.8.intermediate.dense.bias', 'encoder.layer.5.attention.output.dense.weight', 'encoder.layer.1.layernorm_after.bias', 'encoder.layer.10.attention.attention.query.weight', 'encoder.layer.0.output.dense.weight', 'encoder.layer.8.attention.output.dense.bias', 'encoder.layer.11.layernorm_before.weight', 'encoder.layer.3.intermediate.dense.weight', 'encoder.layer.2.layernorm_before.weight', 'encoder.layer.3.attention.attention.value.weight', 'encoder.layer.4.attention.attention.value.bias', 'encoder.layer.3.attention.output.dense.weight', 'encoder.layer.0.attention.attention.query.bias', 'embeddings.patch_embeddings.projection.weight', 'encoder.layer.3.attention.attention.query.bias', 'encoder.layer.8.attention.attention.value.weight', 'encoder.layer.2.attention.attention.key.bias', 'encoder.layer.6.output.dense.weight', 'classifier.weight', 'encoder.layer.9.layernorm_after.bias', 'encoder.layer.1.attention.attention.value.weight', 'embeddings.cls_token', 'encoder.layer.0.intermediate.dense.weight', 'encoder.layer.5.attention.attention.query.bias', 'encoder.layer.6.intermediate.dense.weight', 'encoder.layer.9.layernorm_before.weight', 'encoder.layer.4.attention.output.dense.bias', 'encoder.layer.4.layernorm_before.bias', 'encoder.layer.2.attention.attention.key.weight', 'encoder.layer.10.output.dense.weight', 'encoder.layer.1.attention.attention.query.weight', 'encoder.layer.6.intermediate.dense.bias', 'encoder.layer.6.attention.attention.query.bias', 'encoder.layer.0.attention.output.dense.bias', 'encoder.layer.3.attention.attention.key.weight', 'encoder.layer.11.attention.attention.query.bias', 'encoder.layer.9.intermediate.dense.bias', 'encoder.layer.9.attention.output.dense.bias', 'encoder.layer.10.layernorm_after.weight', 'encoder.layer.3.attention.output.dense.bias', 'encoder.layer.5.attention.attention.key.weight', 'encoder.layer.3.output.dense.weight', 'encoder.layer.0.output.dense.bias', 'encoder.layer.3.layernorm_after.weight', 'encoder.layer.3.layernorm_before.bias', 'encoder.layer.4.layernorm_after.bias', 'encoder.layer.0.attention.attention.value.weight', 'encoder.layer.5.layernorm_before.weight', 'encoder.layer.1.attention.attention.key.weight', 'encoder.layer.8.layernorm_before.bias', 'encoder.layer.8.intermediate.dense.weight', 'encoder.layer.7.attention.attention.value.weight', 'encoder.layer.11.attention.output.dense.weight', 'encoder.layer.8.attention.attention.key.bias', 'encoder.layer.7.layernorm_after.bias', 'encoder.layer.10.attention.output.dense.bias', 'encoder.layer.1.layernorm_before.weight', 'encoder.layer.2.layernorm_after.weight', 'encoder.layer.0.attention.attention.key.bias', 'embeddings.position_embeddings', 'encoder.layer.1.intermediate.dense.weight', 'encoder.layer.10.attention.attention.key.weight', 'encoder.layer.11.attention.attention.key.bias', 'encoder.layer.1.output.dense.weight', 'encoder.layer.8.attention.attention.value.bias', 'encoder.layer.4.attention.attention.key.bias', 'encoder.layer.10.intermediate.dense.bias', 'encoder.layer.9.output.dense.weight', 'encoder.layer.1.layernorm_before.bias', 'encoder.layer.5.layernorm_after.weight', 'encoder.layer.2.intermediate.dense.weight', 'encoder.layer.4.layernorm_before.weight', 'encoder.layer.1.attention.attention.value.bias', 'encoder.layer.10.layernorm_before.weight', 'encoder.layer.5.intermediate.dense.weight', 'encoder.layer.2.attention.attention.value.weight', 'encoder.layer.0.attention.attention.query.weight', 'encoder.layer.1.intermediate.dense.bias', 'encoder.layer.11.attention.attention.value.bias', 'encoder.layer.9.output.dense.bias', 'encoder.layer.2.output.dense.bias']\n",
            "You should probably TRAIN this model on a down-stream task to be able to use it for predictions and inference.\n",
            "/usr/local/lib/python3.8/dist-packages/transformers/models/vit/feature_extraction_vit.py:28: FutureWarning: The class ViTFeatureExtractor is deprecated and will be removed in version 5 of Transformers. Please use ViTImageProcessor instead.\n",
            "  warnings.warn(\n"
          ]
        },
        {
          "output_type": "stream",
          "name": "stdout",
          "text": [
            "{'0': '1', '1': '2', '2': '3'}\n",
            "{'1': '0', '2': '1', '3': '2'}\n"
          ]
        },
        {
          "output_type": "stream",
          "name": "stderr",
          "text": [
            "Using cuda_amp half precision backend\n",
            "/usr/local/lib/python3.8/dist-packages/transformers/optimization.py:306: FutureWarning: This implementation of AdamW is deprecated and will be removed in a future version. Use the PyTorch implementation torch.optim.AdamW instead, or set `no_deprecation_warning=True` to disable this warning\n",
            "  warnings.warn(\n",
            "***** Running training *****\n",
            "  Num examples = 2451\n",
            "  Num Epochs = 20\n",
            "  Instantaneous batch size per device = 32\n",
            "  Total train batch size (w. parallel, distributed & accumulation) = 32\n",
            "  Gradient Accumulation steps = 1\n",
            "  Total optimization steps = 1540\n",
            "  Number of trainable parameters = 85800963\n"
          ]
        },
        {
          "output_type": "stream",
          "name": "stdout",
          "text": [
            "Trainer builded!\n",
            "Start Training!\n"
          ]
        },
        {
          "output_type": "error",
          "ename": "ValueError",
          "evalue": "ignored",
          "traceback": [
            "\u001b[0;31m---------------------------------------------------------------------------\u001b[0m",
            "\u001b[0;31mValueError\u001b[0m                                Traceback (most recent call last)",
            "\u001b[0;32m<ipython-input-3-2d7dbcb3b77d>\u001b[0m in \u001b[0;36m<module>\u001b[0;34m\u001b[0m\n\u001b[1;32m      3\u001b[0m \u001b[0;32mfrom\u001b[0m \u001b[0mtransformers\u001b[0m \u001b[0;32mimport\u001b[0m \u001b[0mViTFeatureExtractor\u001b[0m\u001b[0;34m,\u001b[0m \u001b[0mViTForImageClassification\u001b[0m\u001b[0;34m\u001b[0m\u001b[0;34m\u001b[0m\u001b[0m\n\u001b[1;32m      4\u001b[0m \u001b[0;34m\u001b[0m\u001b[0m\n\u001b[0;32m----> 5\u001b[0;31m trainer = VisionClassifierTrainer(\n\u001b[0m\u001b[1;32m      6\u001b[0m         \u001b[0mmodel_name\u001b[0m   \u001b[0;34m=\u001b[0m \u001b[0;34m\"Vitmodel\"\u001b[0m\u001b[0;34m,\u001b[0m\u001b[0;34m\u001b[0m\u001b[0;34m\u001b[0m\u001b[0m\n\u001b[1;32m      7\u001b[0m         \u001b[0mtrain\u001b[0m        \u001b[0;34m=\u001b[0m \u001b[0mtrain\u001b[0m\u001b[0;34m,\u001b[0m\u001b[0;34m\u001b[0m\u001b[0;34m\u001b[0m\u001b[0m\n",
            "\u001b[0;32m/usr/local/lib/python3.8/dist-packages/hugsvision/nnet/VisionClassifierTrainer.py\u001b[0m in \u001b[0;36m__init__\u001b[0;34m(self, output_dir, model_name, model, feature_extractor, train, test, max_epochs, cores, batch_size, lr, eval_metric, fp16, classification_report_digits, checkpoint_path)\u001b[0m\n\u001b[1;32m    111\u001b[0m       \u001b[0mprint\u001b[0m\u001b[0;34m(\u001b[0m\u001b[0;34mf\"Your checkpoint is loaded from: {self.checkpoint_path}\"\u001b[0m\u001b[0;34m)\u001b[0m\u001b[0;34m\u001b[0m\u001b[0;34m\u001b[0m\u001b[0m\n\u001b[1;32m    112\u001b[0m \u001b[0;34m\u001b[0m\u001b[0m\n\u001b[0;32m--> 113\u001b[0;31m     \u001b[0mself\u001b[0m\u001b[0;34m.\u001b[0m\u001b[0mtrainer\u001b[0m\u001b[0;34m.\u001b[0m\u001b[0mtrain\u001b[0m\u001b[0;34m(\u001b[0m\u001b[0mresume_from_checkpoint\u001b[0m\u001b[0;34m=\u001b[0m\u001b[0mself\u001b[0m\u001b[0;34m.\u001b[0m\u001b[0mcheckpoint_path\u001b[0m\u001b[0;34m)\u001b[0m\u001b[0;34m\u001b[0m\u001b[0;34m\u001b[0m\u001b[0m\n\u001b[0m\u001b[1;32m    114\u001b[0m     \u001b[0mself\u001b[0m\u001b[0;34m.\u001b[0m\u001b[0mtrainer\u001b[0m\u001b[0;34m.\u001b[0m\u001b[0msave_model\u001b[0m\u001b[0;34m(\u001b[0m\u001b[0mself\u001b[0m\u001b[0;34m.\u001b[0m\u001b[0moutput_path\u001b[0m \u001b[0;34m+\u001b[0m \u001b[0;34m\"/trainer/\"\u001b[0m\u001b[0;34m)\u001b[0m\u001b[0;34m\u001b[0m\u001b[0;34m\u001b[0m\u001b[0m\n\u001b[1;32m    115\u001b[0m     \u001b[0mself\u001b[0m\u001b[0;34m.\u001b[0m\u001b[0mmodel\u001b[0m\u001b[0;34m.\u001b[0m\u001b[0msave_pretrained\u001b[0m\u001b[0;34m(\u001b[0m\u001b[0mself\u001b[0m\u001b[0;34m.\u001b[0m\u001b[0moutput_path\u001b[0m \u001b[0;34m+\u001b[0m \u001b[0;34m\"/model/\"\u001b[0m\u001b[0;34m)\u001b[0m\u001b[0;34m\u001b[0m\u001b[0;34m\u001b[0m\u001b[0m\n",
            "\u001b[0;32m/usr/local/lib/python3.8/dist-packages/transformers/trainer.py\u001b[0m in \u001b[0;36mtrain\u001b[0;34m(self, resume_from_checkpoint, trial, ignore_keys_for_eval, **kwargs)\u001b[0m\n\u001b[1;32m   1541\u001b[0m             \u001b[0mself\u001b[0m\u001b[0;34m.\u001b[0m\u001b[0m_inner_training_loop\u001b[0m\u001b[0;34m,\u001b[0m \u001b[0mself\u001b[0m\u001b[0;34m.\u001b[0m\u001b[0m_train_batch_size\u001b[0m\u001b[0;34m,\u001b[0m \u001b[0margs\u001b[0m\u001b[0;34m.\u001b[0m\u001b[0mauto_find_batch_size\u001b[0m\u001b[0;34m\u001b[0m\u001b[0;34m\u001b[0m\u001b[0m\n\u001b[1;32m   1542\u001b[0m         )\n\u001b[0;32m-> 1543\u001b[0;31m         return inner_training_loop(\n\u001b[0m\u001b[1;32m   1544\u001b[0m             \u001b[0margs\u001b[0m\u001b[0;34m=\u001b[0m\u001b[0margs\u001b[0m\u001b[0;34m,\u001b[0m\u001b[0;34m\u001b[0m\u001b[0;34m\u001b[0m\u001b[0m\n\u001b[1;32m   1545\u001b[0m             \u001b[0mresume_from_checkpoint\u001b[0m\u001b[0;34m=\u001b[0m\u001b[0mresume_from_checkpoint\u001b[0m\u001b[0;34m,\u001b[0m\u001b[0;34m\u001b[0m\u001b[0;34m\u001b[0m\u001b[0m\n",
            "\u001b[0;32m/usr/local/lib/python3.8/dist-packages/transformers/trainer.py\u001b[0m in \u001b[0;36m_inner_training_loop\u001b[0;34m(self, batch_size, args, resume_from_checkpoint, trial, ignore_keys_for_eval)\u001b[0m\n\u001b[1;32m   1789\u001b[0m                         \u001b[0mtr_loss_step\u001b[0m \u001b[0;34m=\u001b[0m \u001b[0mself\u001b[0m\u001b[0;34m.\u001b[0m\u001b[0mtraining_step\u001b[0m\u001b[0;34m(\u001b[0m\u001b[0mmodel\u001b[0m\u001b[0;34m,\u001b[0m \u001b[0minputs\u001b[0m\u001b[0;34m)\u001b[0m\u001b[0;34m\u001b[0m\u001b[0;34m\u001b[0m\u001b[0m\n\u001b[1;32m   1790\u001b[0m                 \u001b[0;32melse\u001b[0m\u001b[0;34m:\u001b[0m\u001b[0;34m\u001b[0m\u001b[0;34m\u001b[0m\u001b[0m\n\u001b[0;32m-> 1791\u001b[0;31m                     \u001b[0mtr_loss_step\u001b[0m \u001b[0;34m=\u001b[0m \u001b[0mself\u001b[0m\u001b[0;34m.\u001b[0m\u001b[0mtraining_step\u001b[0m\u001b[0;34m(\u001b[0m\u001b[0mmodel\u001b[0m\u001b[0;34m,\u001b[0m \u001b[0minputs\u001b[0m\u001b[0;34m)\u001b[0m\u001b[0;34m\u001b[0m\u001b[0;34m\u001b[0m\u001b[0m\n\u001b[0m\u001b[1;32m   1792\u001b[0m \u001b[0;34m\u001b[0m\u001b[0m\n\u001b[1;32m   1793\u001b[0m                 if (\n",
            "\u001b[0;32m/usr/local/lib/python3.8/dist-packages/transformers/trainer.py\u001b[0m in \u001b[0;36mtraining_step\u001b[0;34m(self, model, inputs)\u001b[0m\n\u001b[1;32m   2537\u001b[0m \u001b[0;34m\u001b[0m\u001b[0m\n\u001b[1;32m   2538\u001b[0m         \u001b[0;32mwith\u001b[0m \u001b[0mself\u001b[0m\u001b[0;34m.\u001b[0m\u001b[0mcompute_loss_context_manager\u001b[0m\u001b[0;34m(\u001b[0m\u001b[0;34m)\u001b[0m\u001b[0;34m:\u001b[0m\u001b[0;34m\u001b[0m\u001b[0;34m\u001b[0m\u001b[0m\n\u001b[0;32m-> 2539\u001b[0;31m             \u001b[0mloss\u001b[0m \u001b[0;34m=\u001b[0m \u001b[0mself\u001b[0m\u001b[0;34m.\u001b[0m\u001b[0mcompute_loss\u001b[0m\u001b[0;34m(\u001b[0m\u001b[0mmodel\u001b[0m\u001b[0;34m,\u001b[0m \u001b[0minputs\u001b[0m\u001b[0;34m)\u001b[0m\u001b[0;34m\u001b[0m\u001b[0;34m\u001b[0m\u001b[0m\n\u001b[0m\u001b[1;32m   2540\u001b[0m \u001b[0;34m\u001b[0m\u001b[0m\n\u001b[1;32m   2541\u001b[0m         \u001b[0;32mif\u001b[0m \u001b[0mself\u001b[0m\u001b[0;34m.\u001b[0m\u001b[0margs\u001b[0m\u001b[0;34m.\u001b[0m\u001b[0mn_gpu\u001b[0m \u001b[0;34m>\u001b[0m \u001b[0;36m1\u001b[0m\u001b[0;34m:\u001b[0m\u001b[0;34m\u001b[0m\u001b[0;34m\u001b[0m\u001b[0m\n",
            "\u001b[0;32m/usr/local/lib/python3.8/dist-packages/transformers/trainer.py\u001b[0m in \u001b[0;36mcompute_loss\u001b[0;34m(self, model, inputs, return_outputs)\u001b[0m\n\u001b[1;32m   2569\u001b[0m         \u001b[0;32melse\u001b[0m\u001b[0;34m:\u001b[0m\u001b[0;34m\u001b[0m\u001b[0;34m\u001b[0m\u001b[0m\n\u001b[1;32m   2570\u001b[0m             \u001b[0mlabels\u001b[0m \u001b[0;34m=\u001b[0m \u001b[0;32mNone\u001b[0m\u001b[0;34m\u001b[0m\u001b[0;34m\u001b[0m\u001b[0m\n\u001b[0;32m-> 2571\u001b[0;31m         \u001b[0moutputs\u001b[0m \u001b[0;34m=\u001b[0m \u001b[0mmodel\u001b[0m\u001b[0;34m(\u001b[0m\u001b[0;34m**\u001b[0m\u001b[0minputs\u001b[0m\u001b[0;34m)\u001b[0m\u001b[0;34m\u001b[0m\u001b[0;34m\u001b[0m\u001b[0m\n\u001b[0m\u001b[1;32m   2572\u001b[0m         \u001b[0;31m# Save past state if it exists\u001b[0m\u001b[0;34m\u001b[0m\u001b[0;34m\u001b[0m\u001b[0;34m\u001b[0m\u001b[0m\n\u001b[1;32m   2573\u001b[0m         \u001b[0;31m# TODO: this needs to be fixed and made cleaner later.\u001b[0m\u001b[0;34m\u001b[0m\u001b[0;34m\u001b[0m\u001b[0;34m\u001b[0m\u001b[0m\n",
            "\u001b[0;32m/usr/local/lib/python3.8/dist-packages/torch/nn/modules/module.py\u001b[0m in \u001b[0;36m_call_impl\u001b[0;34m(self, *input, **kwargs)\u001b[0m\n\u001b[1;32m   1192\u001b[0m         if not (self._backward_hooks or self._forward_hooks or self._forward_pre_hooks or _global_backward_hooks\n\u001b[1;32m   1193\u001b[0m                 or _global_forward_hooks or _global_forward_pre_hooks):\n\u001b[0;32m-> 1194\u001b[0;31m             \u001b[0;32mreturn\u001b[0m \u001b[0mforward_call\u001b[0m\u001b[0;34m(\u001b[0m\u001b[0;34m*\u001b[0m\u001b[0minput\u001b[0m\u001b[0;34m,\u001b[0m \u001b[0;34m**\u001b[0m\u001b[0mkwargs\u001b[0m\u001b[0;34m)\u001b[0m\u001b[0;34m\u001b[0m\u001b[0;34m\u001b[0m\u001b[0m\n\u001b[0m\u001b[1;32m   1195\u001b[0m         \u001b[0;31m# Do not call functions when jit is used\u001b[0m\u001b[0;34m\u001b[0m\u001b[0;34m\u001b[0m\u001b[0;34m\u001b[0m\u001b[0m\n\u001b[1;32m   1196\u001b[0m         \u001b[0mfull_backward_hooks\u001b[0m\u001b[0;34m,\u001b[0m \u001b[0mnon_full_backward_hooks\u001b[0m \u001b[0;34m=\u001b[0m \u001b[0;34m[\u001b[0m\u001b[0;34m]\u001b[0m\u001b[0;34m,\u001b[0m \u001b[0;34m[\u001b[0m\u001b[0;34m]\u001b[0m\u001b[0;34m\u001b[0m\u001b[0;34m\u001b[0m\u001b[0m\n",
            "\u001b[0;32m/usr/local/lib/python3.8/dist-packages/transformers/models/vit/modeling_vit.py\u001b[0m in \u001b[0;36mforward\u001b[0;34m(self, pixel_values, head_mask, labels, output_attentions, output_hidden_states, interpolate_pos_encoding, return_dict)\u001b[0m\n\u001b[1;32m    787\u001b[0m         \u001b[0mreturn_dict\u001b[0m \u001b[0;34m=\u001b[0m \u001b[0mreturn_dict\u001b[0m \u001b[0;32mif\u001b[0m \u001b[0mreturn_dict\u001b[0m \u001b[0;32mis\u001b[0m \u001b[0;32mnot\u001b[0m \u001b[0;32mNone\u001b[0m \u001b[0;32melse\u001b[0m \u001b[0mself\u001b[0m\u001b[0;34m.\u001b[0m\u001b[0mconfig\u001b[0m\u001b[0;34m.\u001b[0m\u001b[0muse_return_dict\u001b[0m\u001b[0;34m\u001b[0m\u001b[0;34m\u001b[0m\u001b[0m\n\u001b[1;32m    788\u001b[0m \u001b[0;34m\u001b[0m\u001b[0m\n\u001b[0;32m--> 789\u001b[0;31m         outputs = self.vit(\n\u001b[0m\u001b[1;32m    790\u001b[0m             \u001b[0mpixel_values\u001b[0m\u001b[0;34m,\u001b[0m\u001b[0;34m\u001b[0m\u001b[0;34m\u001b[0m\u001b[0m\n\u001b[1;32m    791\u001b[0m             \u001b[0mhead_mask\u001b[0m\u001b[0;34m=\u001b[0m\u001b[0mhead_mask\u001b[0m\u001b[0;34m,\u001b[0m\u001b[0;34m\u001b[0m\u001b[0;34m\u001b[0m\u001b[0m\n",
            "\u001b[0;32m/usr/local/lib/python3.8/dist-packages/torch/nn/modules/module.py\u001b[0m in \u001b[0;36m_call_impl\u001b[0;34m(self, *input, **kwargs)\u001b[0m\n\u001b[1;32m   1192\u001b[0m         if not (self._backward_hooks or self._forward_hooks or self._forward_pre_hooks or _global_backward_hooks\n\u001b[1;32m   1193\u001b[0m                 or _global_forward_hooks or _global_forward_pre_hooks):\n\u001b[0;32m-> 1194\u001b[0;31m             \u001b[0;32mreturn\u001b[0m \u001b[0mforward_call\u001b[0m\u001b[0;34m(\u001b[0m\u001b[0;34m*\u001b[0m\u001b[0minput\u001b[0m\u001b[0;34m,\u001b[0m \u001b[0;34m**\u001b[0m\u001b[0mkwargs\u001b[0m\u001b[0;34m)\u001b[0m\u001b[0;34m\u001b[0m\u001b[0;34m\u001b[0m\u001b[0m\n\u001b[0m\u001b[1;32m   1195\u001b[0m         \u001b[0;31m# Do not call functions when jit is used\u001b[0m\u001b[0;34m\u001b[0m\u001b[0;34m\u001b[0m\u001b[0;34m\u001b[0m\u001b[0m\n\u001b[1;32m   1196\u001b[0m         \u001b[0mfull_backward_hooks\u001b[0m\u001b[0;34m,\u001b[0m \u001b[0mnon_full_backward_hooks\u001b[0m \u001b[0;34m=\u001b[0m \u001b[0;34m[\u001b[0m\u001b[0;34m]\u001b[0m\u001b[0;34m,\u001b[0m \u001b[0;34m[\u001b[0m\u001b[0;34m]\u001b[0m\u001b[0;34m\u001b[0m\u001b[0;34m\u001b[0m\u001b[0m\n",
            "\u001b[0;32m/usr/local/lib/python3.8/dist-packages/transformers/models/vit/modeling_vit.py\u001b[0m in \u001b[0;36mforward\u001b[0;34m(self, pixel_values, bool_masked_pos, head_mask, output_attentions, output_hidden_states, interpolate_pos_encoding, return_dict)\u001b[0m\n\u001b[1;32m    573\u001b[0m             \u001b[0mpixel_values\u001b[0m \u001b[0;34m=\u001b[0m \u001b[0mpixel_values\u001b[0m\u001b[0;34m.\u001b[0m\u001b[0mto\u001b[0m\u001b[0;34m(\u001b[0m\u001b[0mexpected_dtype\u001b[0m\u001b[0;34m)\u001b[0m\u001b[0;34m\u001b[0m\u001b[0;34m\u001b[0m\u001b[0m\n\u001b[1;32m    574\u001b[0m \u001b[0;34m\u001b[0m\u001b[0m\n\u001b[0;32m--> 575\u001b[0;31m         embedding_output = self.embeddings(\n\u001b[0m\u001b[1;32m    576\u001b[0m             \u001b[0mpixel_values\u001b[0m\u001b[0;34m,\u001b[0m \u001b[0mbool_masked_pos\u001b[0m\u001b[0;34m=\u001b[0m\u001b[0mbool_masked_pos\u001b[0m\u001b[0;34m,\u001b[0m \u001b[0minterpolate_pos_encoding\u001b[0m\u001b[0;34m=\u001b[0m\u001b[0minterpolate_pos_encoding\u001b[0m\u001b[0;34m\u001b[0m\u001b[0;34m\u001b[0m\u001b[0m\n\u001b[1;32m    577\u001b[0m         )\n",
            "\u001b[0;32m/usr/local/lib/python3.8/dist-packages/torch/nn/modules/module.py\u001b[0m in \u001b[0;36m_call_impl\u001b[0;34m(self, *input, **kwargs)\u001b[0m\n\u001b[1;32m   1192\u001b[0m         if not (self._backward_hooks or self._forward_hooks or self._forward_pre_hooks or _global_backward_hooks\n\u001b[1;32m   1193\u001b[0m                 or _global_forward_hooks or _global_forward_pre_hooks):\n\u001b[0;32m-> 1194\u001b[0;31m             \u001b[0;32mreturn\u001b[0m \u001b[0mforward_call\u001b[0m\u001b[0;34m(\u001b[0m\u001b[0;34m*\u001b[0m\u001b[0minput\u001b[0m\u001b[0;34m,\u001b[0m \u001b[0;34m**\u001b[0m\u001b[0mkwargs\u001b[0m\u001b[0;34m)\u001b[0m\u001b[0;34m\u001b[0m\u001b[0;34m\u001b[0m\u001b[0m\n\u001b[0m\u001b[1;32m   1195\u001b[0m         \u001b[0;31m# Do not call functions when jit is used\u001b[0m\u001b[0;34m\u001b[0m\u001b[0;34m\u001b[0m\u001b[0;34m\u001b[0m\u001b[0m\n\u001b[1;32m   1196\u001b[0m         \u001b[0mfull_backward_hooks\u001b[0m\u001b[0;34m,\u001b[0m \u001b[0mnon_full_backward_hooks\u001b[0m \u001b[0;34m=\u001b[0m \u001b[0;34m[\u001b[0m\u001b[0;34m]\u001b[0m\u001b[0;34m,\u001b[0m \u001b[0;34m[\u001b[0m\u001b[0;34m]\u001b[0m\u001b[0;34m\u001b[0m\u001b[0;34m\u001b[0m\u001b[0m\n",
            "\u001b[0;32m/usr/local/lib/python3.8/dist-packages/transformers/models/vit/modeling_vit.py\u001b[0m in \u001b[0;36mforward\u001b[0;34m(self, pixel_values, bool_masked_pos, interpolate_pos_encoding)\u001b[0m\n\u001b[1;32m    115\u001b[0m     ) -> torch.Tensor:\n\u001b[1;32m    116\u001b[0m         \u001b[0mbatch_size\u001b[0m\u001b[0;34m,\u001b[0m \u001b[0mnum_channels\u001b[0m\u001b[0;34m,\u001b[0m \u001b[0mheight\u001b[0m\u001b[0;34m,\u001b[0m \u001b[0mwidth\u001b[0m \u001b[0;34m=\u001b[0m \u001b[0mpixel_values\u001b[0m\u001b[0;34m.\u001b[0m\u001b[0mshape\u001b[0m\u001b[0;34m\u001b[0m\u001b[0;34m\u001b[0m\u001b[0m\n\u001b[0;32m--> 117\u001b[0;31m         \u001b[0membeddings\u001b[0m \u001b[0;34m=\u001b[0m \u001b[0mself\u001b[0m\u001b[0;34m.\u001b[0m\u001b[0mpatch_embeddings\u001b[0m\u001b[0;34m(\u001b[0m\u001b[0mpixel_values\u001b[0m\u001b[0;34m,\u001b[0m \u001b[0minterpolate_pos_encoding\u001b[0m\u001b[0;34m=\u001b[0m\u001b[0minterpolate_pos_encoding\u001b[0m\u001b[0;34m)\u001b[0m\u001b[0;34m\u001b[0m\u001b[0;34m\u001b[0m\u001b[0m\n\u001b[0m\u001b[1;32m    118\u001b[0m \u001b[0;34m\u001b[0m\u001b[0m\n\u001b[1;32m    119\u001b[0m         \u001b[0;32mif\u001b[0m \u001b[0mbool_masked_pos\u001b[0m \u001b[0;32mis\u001b[0m \u001b[0;32mnot\u001b[0m \u001b[0;32mNone\u001b[0m\u001b[0;34m:\u001b[0m\u001b[0;34m\u001b[0m\u001b[0;34m\u001b[0m\u001b[0m\n",
            "\u001b[0;32m/usr/local/lib/python3.8/dist-packages/torch/nn/modules/module.py\u001b[0m in \u001b[0;36m_call_impl\u001b[0;34m(self, *input, **kwargs)\u001b[0m\n\u001b[1;32m   1192\u001b[0m         if not (self._backward_hooks or self._forward_hooks or self._forward_pre_hooks or _global_backward_hooks\n\u001b[1;32m   1193\u001b[0m                 or _global_forward_hooks or _global_forward_pre_hooks):\n\u001b[0;32m-> 1194\u001b[0;31m             \u001b[0;32mreturn\u001b[0m \u001b[0mforward_call\u001b[0m\u001b[0;34m(\u001b[0m\u001b[0;34m*\u001b[0m\u001b[0minput\u001b[0m\u001b[0;34m,\u001b[0m \u001b[0;34m**\u001b[0m\u001b[0mkwargs\u001b[0m\u001b[0;34m)\u001b[0m\u001b[0;34m\u001b[0m\u001b[0;34m\u001b[0m\u001b[0m\n\u001b[0m\u001b[1;32m   1195\u001b[0m         \u001b[0;31m# Do not call functions when jit is used\u001b[0m\u001b[0;34m\u001b[0m\u001b[0;34m\u001b[0m\u001b[0;34m\u001b[0m\u001b[0m\n\u001b[1;32m   1196\u001b[0m         \u001b[0mfull_backward_hooks\u001b[0m\u001b[0;34m,\u001b[0m \u001b[0mnon_full_backward_hooks\u001b[0m \u001b[0;34m=\u001b[0m \u001b[0;34m[\u001b[0m\u001b[0;34m]\u001b[0m\u001b[0;34m,\u001b[0m \u001b[0;34m[\u001b[0m\u001b[0;34m]\u001b[0m\u001b[0;34m\u001b[0m\u001b[0;34m\u001b[0m\u001b[0m\n",
            "\u001b[0;32m/usr/local/lib/python3.8/dist-packages/transformers/models/vit/modeling_vit.py\u001b[0m in \u001b[0;36mforward\u001b[0;34m(self, pixel_values, interpolate_pos_encoding)\u001b[0m\n\u001b[1;32m    169\u001b[0m         \u001b[0;32mif\u001b[0m \u001b[0;32mnot\u001b[0m \u001b[0minterpolate_pos_encoding\u001b[0m\u001b[0;34m:\u001b[0m\u001b[0;34m\u001b[0m\u001b[0;34m\u001b[0m\u001b[0m\n\u001b[1;32m    170\u001b[0m             \u001b[0;32mif\u001b[0m \u001b[0mheight\u001b[0m \u001b[0;34m!=\u001b[0m \u001b[0mself\u001b[0m\u001b[0;34m.\u001b[0m\u001b[0mimage_size\u001b[0m\u001b[0;34m[\u001b[0m\u001b[0;36m0\u001b[0m\u001b[0;34m]\u001b[0m \u001b[0;32mor\u001b[0m \u001b[0mwidth\u001b[0m \u001b[0;34m!=\u001b[0m \u001b[0mself\u001b[0m\u001b[0;34m.\u001b[0m\u001b[0mimage_size\u001b[0m\u001b[0;34m[\u001b[0m\u001b[0;36m1\u001b[0m\u001b[0;34m]\u001b[0m\u001b[0;34m:\u001b[0m\u001b[0;34m\u001b[0m\u001b[0;34m\u001b[0m\u001b[0m\n\u001b[0;32m--> 171\u001b[0;31m                 raise ValueError(\n\u001b[0m\u001b[1;32m    172\u001b[0m                     \u001b[0;34mf\"Input image size ({height}*{width}) doesn't match model\"\u001b[0m\u001b[0;34m\u001b[0m\u001b[0;34m\u001b[0m\u001b[0m\n\u001b[1;32m    173\u001b[0m                     \u001b[0;34mf\" ({self.image_size[0]}*{self.image_size[1]}).\"\u001b[0m\u001b[0;34m\u001b[0m\u001b[0;34m\u001b[0m\u001b[0m\n",
            "\u001b[0;31mValueError\u001b[0m: Input image size (256*256) doesn't match model (224*224)."
          ]
        }
      ]
    },
    {
      "cell_type": "code",
      "source": [
        "ref, hyp = trainer.evaluate_f1_score()"
      ],
      "metadata": {
        "colab": {
          "base_uri": "https://localhost:8080/"
        },
        "id": "9Mt1-kiGAXOh",
        "outputId": "dfa19f2d-3e5c-4a60-d840-3582f8d3557a"
      },
      "execution_count": null,
      "outputs": [
        {
          "output_type": "stream",
          "name": "stderr",
          "text": [
            "100%|██████████| 425/425 [00:15<00:00, 27.14it/s]"
          ]
        },
        {
          "output_type": "stream",
          "name": "stdout",
          "text": [
            "              precision    recall  f1-score   support\n",
            "\n",
            "           1     0.9533    0.9346    0.9439       153\n",
            "           2     0.9400    0.9592    0.9495       147\n",
            "           3     0.9760    0.9760    0.9760       125\n",
            "\n",
            "    accuracy                         0.9553       425\n",
            "   macro avg     0.9564    0.9566    0.9565       425\n",
            "weighted avg     0.9554    0.9553    0.9553       425\n",
            "\n",
            "Logs saved at: \u001b[93m/content/drive/MyDrive/VIT_models/VITMODEL/20_2023-02-01-22-24-43\u001b[0m\n"
          ]
        },
        {
          "output_type": "stream",
          "name": "stderr",
          "text": [
            "\n"
          ]
        }
      ]
    },
    {
      "cell_type": "code",
      "source": [
        "\n",
        "import pandas as pd\n",
        "import seaborn as sn\n",
        "import matplotlib.pyplot as plt\n",
        "from sklearn.metrics import confusion_matrix, accuracy_score\n",
        "acc = accuracy_score(ref,hyp) *100\n",
        "print(acc)\n",
        "\n",
        "cm = confusion_matrix(ref, hyp)\n",
        "labels = list(label2id.keys())\n",
        "df_cm = pd.DataFrame(cm, index = labels, columns = labels)\n",
        "\n",
        "plt.figure(figsize = (5,5))\n",
        "plt.title(\"Confusion Matraix with Accuracy {} %\".format(str(acc)[0:5]))\n",
        "sn.heatmap(df_cm, annot=True, annot_kws={\"size\": 8}, fmt=\"\",cmap= plt.cm.CMRmap)\n",
        "plt.savefig(\"/content/drive/MyDrive/VIT_models/conf_matrix_3.jpg\")\n"
      ],
      "metadata": {
        "colab": {
          "base_uri": "https://localhost:8080/"
        },
        "id": "l_ZQc_-wBpmL",
        "outputId": "6d0c1187-c8fe-4b83-8207-678f813f0128"
      },
      "execution_count": null,
      "outputs": [
        {
          "output_type": "stream",
          "name": "stdout",
          "text": [
            "95.52941176470588\n"
          ]
        }
      ]
    },
    {
      "cell_type": "code",
      "source": [
        "from google.colab.patches import cv2_imshow\n",
        "import cv2\n",
        "\n",
        "conf = cv2.imread(\"/content/drive/MyDrive/VIT_models/conf_matrix_3.jpg\")\n",
        "plt.figure()\n",
        "cv2_imshow(conf)"
      ],
      "metadata": {
        "colab": {
          "base_uri": "https://localhost:8080/",
          "height": 377
        },
        "id": "Gm0D62qgBxp_",
        "outputId": "2527fbda-10a1-42e2-c9e5-68f831fa7285"
      },
      "execution_count": null,
      "outputs": [
        {
          "output_type": "display_data",
          "data": {
            "text/plain": [
              "<PIL.Image.Image image mode=RGB size=360x360 at 0x7F3B000BAF40>"
            ],
            "image/png": "[encoded data removed]"
          },
          "metadata": {}
        }
      ]
    },
    {
      "cell_type": "code",
      "source": [],
      "metadata": {
        "id": "BEBv6KmFB179"
      },
      "execution_count": null,
      "outputs": []
    }
  ]
}